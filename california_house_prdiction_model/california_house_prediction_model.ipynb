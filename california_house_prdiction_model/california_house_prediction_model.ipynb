version https://git-lfs.github.com/spec/v1
oid sha256:e4f05d4e7cb8e2d1bd0f74db86f49b1e52272a5e4473623632b101ae2d0fe51e
size 1197598
