version https://git-lfs.github.com/spec/v1
oid sha256:c6feff414b930bc0ba11f44cc7b4d9f4e5fa6151d84f63a9f247783dc5dba21b
size 320803
